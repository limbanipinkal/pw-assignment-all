{
  "nbformat": 4,
  "nbformat_minor": 0,
  "metadata": {
    "colab": {
      "provenance": [],
      "authorship_tag": "ABX9TyNCrtN7dA9TNZqmLHfgSwMy",
      "include_colab_link": true
    },
    "kernelspec": {
      "name": "python3",
      "display_name": "Python 3"
    },
    "language_info": {
      "name": "python"
    }
  },
  "cells": [
    {
      "cell_type": "markdown",
      "metadata": {
        "id": "view-in-github",
        "colab_type": "text"
      },
      "source": [
        "<a href=\"https://colab.research.google.com/github/limbanipinkal/pw-assignment-all/blob/main/assignment_data_structures_python_.ipynb\" target=\"_parent\"><img src=\"https://colab.research.google.com/assets/colab-badge.svg\" alt=\"Open In Colab\"/></a>"
      ]
    },
    {
      "cell_type": "code",
      "execution_count": null,
      "metadata": {
        "id": "Hpok3ZgkCaBS"
      },
      "outputs": [],
      "source": [
        "# assignment data structure ##\n"
      ]
    },
    {
      "cell_type": "code",
      "source": [],
      "metadata": {
        "id": "9rrsPrrdIV9e"
      },
      "execution_count": null,
      "outputs": []
    },
    {
      "cell_type": "code",
      "source": [
        "1.  a=\"hello\"\n",
        "print(a[::-1])\n",
        "\n",
        "\n",
        "\n"
      ],
      "metadata": {
        "id": "KTkLhUG3C6tU",
        "colab": {
          "base_uri": "https://localhost:8080/"
        },
        "outputId": "6799480f-fc00-4090-b7ce-59cb4fd3a3a8"
      },
      "execution_count": null,
      "outputs": [
        {
          "output_type": "stream",
          "name": "stdout",
          "text": [
            "olleh\n"
          ]
        }
      ]
    },
    {
      "cell_type": "code",
      "source": [
        "\n",
        "\n",
        "2.write a code to count the number of vowels in a string.\n",
        " def count_vowels(string):\n",
        "    vowels = \"aeiouAEIOU\"\n",
        "    count = 0\n",
        "    for char in string:\n",
        "        if char in vowels:\n",
        "            count += 1\n",
        "    return count\n",
        "\n",
        "\n"
      ],
      "metadata": {
        "id": "MMGqvw2tJQwG"
      },
      "execution_count": null,
      "outputs": []
    },
    {
      "cell_type": "code",
      "source": [
        "3.\n",
        "\u0012 Write ' %ode to %he%k if ' gi\u0013en\n",
        "tring i\n",
        " ' p'lindro\n",
        "e or not\u0012\n",
        "def is_palindrome(string):\n",
        "    reversed_string = string[::-1]\n",
        "    if string == reversed_string:\n",
        "        return True\n",
        "    else:\n",
        "        return False"
      ],
      "metadata": {
        "id": "Er2sT8xWPZTb"
      },
      "execution_count": null,
      "outputs": []
    },
    {
      "cell_type": "code",
      "source": [
        "4.\u0011\u0012 Write ' %ode to %he%k if two gi\u0013en\n",
        "tring\n",
        " 're 'n'gr'\n",
        "\n",
        " of e'%h other\n",
        "def are_anagrams(string1, string2):\n",
        "    string1 = string1.lower()\n",
        "    string2 = string2.lower()\n",
        "    if sorted(string1) == sorted(string2):\n",
        "        return True\n",
        "    else:\n",
        "        return False"
      ],
      "metadata": {
        "id": "D5OwBp2HPrql"
      },
      "execution_count": null,
      "outputs": []
    },
    {
      "cell_type": "code",
      "source": [
        "5.\u0012 Write ' %ode to find 'll o%%urren%e\n",
        " of ' gi\u0013en\n",
        "ub\n",
        "tring within 'nother\n",
        "tring\n",
        "def find_substring(string, substring):\n",
        "    index = string.find(substring)\n",
        "    return index\n"
      ],
      "metadata": {
        "id": "-2cf2MpDPrnD"
      },
      "execution_count": null,
      "outputs": []
    },
    {
      "cell_type": "code",
      "source": [
        "6.$\u0012 Write ' %ode to perfor\n",
        " b'\n",
        "i%\n",
        "tring %o\n",
        "pre\n",
        "\n",
        "ion u\n",
        "ing the %ount\n",
        " of repe'ted %h'r'%ter\n",
        "\n",
        "def perform_string_operations(string):\n",
        "    count = {}\n",
        "    for char in string:\n",
        "        if char in count:\n",
        "            count[char] += 1\n",
        "        else:\n",
        "            count[char] = 1\n"
      ],
      "metadata": {
        "id": "05hHpn9wPrjv"
      },
      "execution_count": null,
      "outputs": []
    },
    {
      "cell_type": "code",
      "source": [
        "7.Write ' %ode to deter\n",
        "ine if '\n",
        "tring h'\n",
        " 'll unique %h'r'%ter\n",
        "\u0012\n",
        "def is_unique(string):\n",
        "    count = {}\n",
        "    for char in string:\n",
        "        if char in count:\n",
        "            return False\n",
        "        else:\n",
        "            count[char] = 1\n",
        "    return True\n"
      ],
      "metadata": {
        "id": "BrrnW28MPrgh"
      },
      "execution_count": null,
      "outputs": []
    },
    {
      "cell_type": "code",
      "source": [
        "8.\b\u0012 Write ' %ode to %on\u0013ert ' gi\u0013en\n",
        "tring to upper%'\n",
        "e or lower%'\n",
        "e\u0012\n",
        "def toggle_case(string):\n",
        "    result = \"\"\n",
        "    for char in string:\n",
        "        if char.isupper():\n",
        "            result += char.lower()\n",
        "        else:\n",
        "            result += char.upper()\n",
        "    return result"
      ],
      "metadata": {
        "id": "cKb4p_t4PrdF"
      },
      "execution_count": null,
      "outputs": []
    },
    {
      "cell_type": "code",
      "source": [
        "9.Write ' %ode to %ount the nu\n",
        "ber of word\n",
        " in '\n",
        "tring\n",
        "def count_words(string):\n",
        "    words = string.split()\n",
        "    count = len(words)\n",
        "    return count"
      ],
      "metadata": {
        "id": "GKxmNoRcPraa"
      },
      "execution_count": null,
      "outputs": []
    },
    {
      "cell_type": "code",
      "source": [
        "10.Write ' %ode to %on%'ten'te two\n",
        "tring\n",
        " without u\n",
        "ing the + oper'tor\n",
        "def concatenate_strings(string1, string2):\n",
        "    result = \"\"\n",
        "    for char in string1:\n",
        "        result += char\n",
        "    for char in string2:\n",
        "        result += char\n",
        "    return result"
      ],
      "metadata": {
        "id": "SUvbWSbSPrXk"
      },
      "execution_count": null,
      "outputs": []
    },
    {
      "cell_type": "code",
      "source": [
        "11.\"\u0012 Write ' %ode to re\n",
        "o\u0013e 'll o%%urren%e\n",
        " of '\n",
        "pe%ifi% ele\n",
        "ent fro\n",
        " ' li\n",
        "t\u0012\n",
        "def remove_element(list, element):\n",
        "    list.remove(element)\n",
        "    return list"
      ],
      "metadata": {
        "id": "DGoSbsTpPrO-"
      },
      "execution_count": null,
      "outputs": []
    },
    {
      "cell_type": "code",
      "source": [
        "12.I\n",
        "ple\n",
        "ent ' %ode to find the\n",
        "e%ond l'rge\n",
        "t nu\n",
        "ber in ' gi\u0013en li\n",
        "t of integer\n",
        "\u0012\n",
        "def find_second_largest(list):\n",
        "    list.sort()\n",
        "    return list[-2]"
      ],
      "metadata": {
        "id": "BbW5o8rQPrJg"
      },
      "execution_count": null,
      "outputs": []
    },
    {
      "cell_type": "code",
      "source": [
        "13.Cre'te ' %ode to %ount the o%%urren%e\n",
        " of e'%h ele\n",
        "ent in ' li\n",
        "t 'nd return ' di%tion'r\n",
        " with ele\n",
        "ent\n",
        " '\n",
        "\n",
        "ke\n",
        "\n",
        " 'nd their %ount\n",
        " '\n",
        " \u0013'lue\n",
        "\u0012\n",
        "def count_elements(list):\n",
        "    count = {}\n",
        "    for element in list:\n",
        "        if element in count:\n",
        "            count[element] += 1\n",
        "        else:\n",
        "            count[element] = 1\n",
        "    return count"
      ],
      "metadata": {
        "id": "kAAbdpkRPrGW"
      },
      "execution_count": null,
      "outputs": []
    },
    {
      "cell_type": "code",
      "source": [
        "14.Write ' %ode to re\u0013er\n",
        "e ' li\n",
        "t in-pl'%e without u\n",
        "ing 'n\n",
        " built-in re\u0013er\n",
        "e fun%tion\n",
        "\u0012\n",
        " def reverse_list(list):\n",
        "    start = 0\n",
        "    end = len(list) - 1\n",
        "    while start < end:\n",
        "        list[start], list[end] = list[end], list[start]\n",
        "        start += 1\n",
        "        end -= 1\n"
      ],
      "metadata": {
        "id": "ZtpbSXwXPrDI"
      },
      "execution_count": null,
      "outputs": []
    },
    {
      "cell_type": "code",
      "source": [
        "15. I\n",
        "ple\n",
        "ent ' %ode to find 'nd re\n",
        "o\u0013e dupli%'te\n",
        " fro\n",
        " ' li\n",
        "t while pre\n",
        "er\u0013ing the origin'l order of\n",
        "ele\n",
        "ent\n",
        "\n",
        "def remove_duplicates(list):\n",
        "    unique_list = []\n",
        "    for element in list:\n",
        "        if element not in unique_list:\n",
        "            unique_list.append(element)\n",
        "    return unique_list"
      ],
      "metadata": {
        "id": "_uO6i1p-Rnhk"
      },
      "execution_count": null,
      "outputs": []
    },
    {
      "cell_type": "code",
      "source": [
        "16.\u0012 Cre'te ' %ode to %he%k if ' gi\u0013en li\n",
        "t i\n",
        "\n",
        "orted (either in '\n",
        "%ending or de\n",
        "%ending order) or not\n",
        "def is_sorted(list):\n",
        "    for i in range(len(list) - 1):\n",
        "        if list[i] > list[i + 1]:\n",
        "            return False\n",
        "    return True"
      ],
      "metadata": {
        "id": "EKaYiNH_Rneg"
      },
      "execution_count": null,
      "outputs": []
    },
    {
      "cell_type": "code",
      "source": [
        "17.Write ' %ode to\n",
        "erge two\n",
        "orted li\n",
        "t\n",
        " into '\n",
        "ingle\n",
        "orted li\n",
        "t\u0012\n",
        "def merge_lists(list1, list2):\n",
        "    merged_list = []\n",
        "    i = 0\n",
        "    j = 0"
      ],
      "metadata": {
        "id": "Tb2-02xERnal"
      },
      "execution_count": null,
      "outputs": []
    },
    {
      "cell_type": "code",
      "source": [
        "18.\b\u0012 I\n",
        "ple\n",
        "ent ' %ode to find the inter\n",
        "e%tion of two gi\u0013en li\n",
        "t\n",
        "\u0012\n",
        "def find_intersection(list1, list2):\n",
        "    intersection = []\n",
        "    for element in list1:\n",
        "        if element in list2:\n",
        "            intersection.append(element)\n",
        "    return intersection"
      ],
      "metadata": {
        "id": "xg0JQGwbRnXR"
      },
      "execution_count": null,
      "outputs": []
    },
    {
      "cell_type": "code",
      "source": [
        "19.Cre'te ' %ode to find the union of two li\n",
        "t\n",
        " without dupli%'te\n",
        "\u0012\n",
        "def find_union(list1, list2):\n",
        "    union = []\n",
        "    for element in list1:\n",
        "        if element not in union:\n",
        "            union.append(element)"
      ],
      "metadata": {
        "id": "-nK8bN6fRnT8"
      },
      "execution_count": null,
      "outputs": []
    },
    {
      "cell_type": "code",
      "source": [
        "20.Write ' %ode to\n",
        "huffle ' gi\u0013en li\n",
        "t r'ndo\n",
        "l\n",
        " without u\n",
        "ing 'n\n",
        " built-in\n",
        "huffle fun%tion\n",
        "\n",
        " def shuffle_list(list):\n",
        "    for i in range(len(list) - 1, 0, -1):\n",
        "        j = random.randint(0, i)\n",
        "        list[i], list[j] = list[j], list[i]\n"
      ],
      "metadata": {
        "id": "iFTW8r2sRnQn"
      },
      "execution_count": null,
      "outputs": []
    },
    {
      "cell_type": "code",
      "source": [
        "21.\u0012 Write ' %ode th't t'ke\n",
        " two tuple\n",
        " '\n",
        " input 'nd return\n",
        " ' new tuple %ont'ining ele\n",
        "ent\n",
        " th't 're\n",
        "%o\n",
        "\n",
        "on to both input tuple\n",
        "\n",
        "def merge_tuples(tuple1, tuple2):\n",
        "    merged_tuple = tuple1 + tuple2\n",
        "    return merged_tuple"
      ],
      "metadata": {
        "id": "AO8xTtUERnMZ"
      },
      "execution_count": null,
      "outputs": []
    },
    {
      "cell_type": "code",
      "source": [
        "22.Cre'te ' %ode th't pro\n",
        "pt\n",
        " the u\n",
        "er to enter two\n",
        "et\n",
        " of integer\n",
        "\n",
        "ep'r'ted b\n",
        " %o\n",
        "\n",
        "'\n",
        ". Then# print the\n",
        "inter\n",
        "e%tion of the\n",
        "e two\n",
        "et\n",
        "\n",
        "def get_intersection(set1, set2):\n",
        "    intersection = set1.intersection(set2)\n",
        "    return intersection"
      ],
      "metadata": {
        "id": "FSubhKwJRnI5"
      },
      "execution_count": null,
      "outputs": []
    },
    {
      "cell_type": "code",
      "source": [
        "23.\u0012 Write ' %ode to %on%'ten'te two tuple\n",
        ". The fun%tion\n",
        "hould t'ke two tuple\n",
        " '\n",
        " input 'nd return ' new\n",
        "tuple %ont'ining ele\n",
        "ent\n",
        " fro\n",
        " both input tuple\n",
        "\n",
        "def merge_tuples(tuple1, tuple2):\n",
        "    merged_tuple = tuple1 + tuple2\n",
        "    return merged_tuple"
      ],
      "metadata": {
        "id": "uqkfgq0XRnFj"
      },
      "execution_count": null,
      "outputs": []
    },
    {
      "cell_type": "code",
      "source": [
        "24.& D(v(lop + cod( th+t prompts th( us(r to input two s(ts of strings. Th(n print th( (l(m(nts th+t +r(\n",
        "pr(s(nt in th( first s(t but not in th( s(cond s(t.\n",
        "\n",
        "set1=set(input(\"enter the first string\"))\n",
        "set2=set(input(\"enter the second string\"))\n",
        "print(set1-)(set2)\n",
        "result=set1-set2\n",
        "print(result)\n",
        "\n",
        "\n"
      ],
      "metadata": {
        "id": "k4qcKpFZRm_J"
      },
      "execution_count": null,
      "outputs": []
    },
    {
      "cell_type": "code",
      "source": [
        "25.& Cr(+t( + cod( th+t t+k(s + tupl( +nd two int(g(rs +s input. Th( function should r(turn + n(w tupl(\n",
        "cont+ining (l(m(nts from th( origin+l tupl( within th( sp(cifi(d r+ng( of indices.ResourceWarning\n",
        " def get_tuple_subset(original_tuple,start_index,end_index):\n",
        "  return original_tupple[start_index:end_index]\n",
        "\n",
        "my_tuple = (1, 2, 3, 4, 5)\n",
        "start_index = 1\n",
        "end_index = 4\n",
        "new_tuple = get_tuple_subset(my_tuple, start_index, end_index)\n",
        "print(new_tuple)\n"
      ],
      "metadata": {
        "id": "bvPiB-qtRm7h"
      },
      "execution_count": null,
      "outputs": []
    },
    {
      "cell_type": "code",
      "source": [
        "26.& Writ( + cod( th+t prompts th( us(r to input two s(ts of ch+r+ct(rs. Th(n print th( union of th(s(  two sets.and\n",
        "set1=set(input('enter the first set of characters:'))\n",
        "set2=set(input('enter the second set of characters:'))\n",
        "union=set1.union(set2)\n",
        "print(union)\n",
        "\n"
      ],
      "metadata": {
        "id": "5LrfLZjGRmzz"
      },
      "execution_count": null,
      "outputs": []
    },
    {
      "cell_type": "code",
      "source": [
        "27.& D(v(lop + cod( th+t t+k(s + tupl( of int(g(rs +s input. Th( function should r(turn th( m+\bimum +nd\n",
        "minimum v+lu(s from th( tupl( using tupl( unp+cking\n",
        "\n",
        "def find _min_max(tuple):\n",
        "  minimum,maximum=tuple\n",
        "   my_tupple=(3,1,4,1,5,9,2,6)\n",
        "   min_val,max_val=find_min_val_max(my_tupple)\n",
        "  return minimum,maximum\n",
        "   print(f\"minimum:{min_val},maximum:{max_val}\"))"
      ],
      "metadata": {
        "id": "wqUY_zuSXvwM"
      },
      "execution_count": null,
      "outputs": []
    },
    {
      "cell_type": "code",
      "source": [
        "28.Cr(+t( + cod( th+t d(fin(s two s(ts of int(g(rs. Th(n print th( union int(rs(ction +nd diff(r(nc( of th(s(\n",
        "two s(ts&\n",
        "\n",
        "set1={1,2,3,4,5}\n",
        "set2={4,5,6,7,8}\n",
        "union=set1.union(set2)\n",
        "print(union)\n",
        "difference=set1.difference(set2)\n",
        "print(difference)"
      ],
      "metadata": {
        "id": "SQ96AUtwRmvb"
      },
      "execution_count": null,
      "outputs": []
    },
    {
      "cell_type": "code",
      "source": [
        "29.Writ( + cod( th+t t+k(s + tupl( +nd +n (l(m(nt +s input. Th( function should r(turn th( count of\n",
        "occurr(nc(s of th( giv(n (l(m(nt in th( tupl(&\n",
        "my_tupple=(1,2,2,3,4,2,5,2)\n",
        "element=2\n",
        "count=count_occurrences(my_tupple,element)\n",
        "print(f\"the count of {element}in the tuple is:{count}\")"
      ],
      "metadata": {
        "id": "2O0hovJqPq_0"
      },
      "execution_count": null,
      "outputs": []
    },
    {
      "cell_type": "code",
      "source": [
        "30.D(v(lop + cod( th+t prompts th( us(r to input two s(ts of strings. Th(n print th( s\u0004mm(tric diff(r(nc( of\n",
        "th(s( two s(ts\n",
        "\n",
        "set1=set(input(\"enter the first string:\"))\n",
        "set2=set(input(\"enter the second string:\"))\n",
        "result=set1.symmetric_difference(set2)\n",
        "print(result)\n",
        "symmetric_difference=set1.symmetric_difference(set2)\n",
        "print(symmetric_difference)"
      ],
      "metadata": {
        "id": "i3m6MoE-Z2U4"
      },
      "execution_count": null,
      "outputs": []
    },
    {
      "cell_type": "code",
      "source": [
        "31.Writ( + cod( th+t t+k(s + list of words +s input +nd r(turns + diction+r\u0004 wh(r( th( k(\u0004s +r( uni\n",
        "u( words\n",
        "+nd th( v+lu(s +r( th( fr(\n",
        "u(nci(s of thos( words in th( input list&\n",
        " def word_frequancies(words):\n",
        "  frequnecy={}\n",
        "  for word in words:\n",
        "    if word in frequnecy:\n",
        "      frequnecy[word]+=1\n",
        "    else:\n",
        "      frequnecy[word]=1\n",
        "  return frequnecy\n",
        "   word_list=['apple','banana','apple','cherry','banana'apple']\n",
        "   frequncies=word_frequencies(word_list)\n",
        "   print(frequnecies))\n",
        "\n"
      ],
      "metadata": {
        "id": "EYf_AafwZ2RA"
      },
      "execution_count": null,
      "outputs": []
    },
    {
      "cell_type": "code",
      "source": [
        "32.Writ( + cod( th+t t+k(s two diction+ri(s +s input +nd m(rg(s th(m into + singl( diction+r\u0004. If th(r( +r(\n",
        "common k(\u0004s th( v+lu(s should b( +dd(d tog(th(r&\n",
        "def merge_dictionaries(dict1,dict2):\n",
        "  merged_dict={**dict1,**dict2}\n",
        "  return merged_dict\n",
        "dict1 = {'a': 1, 'b': 2}\n",
        "dict2 = {'b': 3, 'c': 4}\n",
        "merged_dict = merge_dictionaries(dict1, dict2)\n",
        "print(merged_dict)\n"
      ],
      "metadata": {
        "id": "qfASyHoTZ2NE"
      },
      "execution_count": null,
      "outputs": []
    },
    {
      "cell_type": "code",
      "source": [
        "33.Writ( + cod( to +cc(ss + v+lu( in + n(st(d diction+r\u0004. Th( function should t+k( th( diction+r\u0004 +nd + list of\n",
        "k(\u0004s +s input +nd r(turn th( corr(sponding v+lu(. If +n\u0004 of th( k(\u0004s do not (\bist in th( diction+r\u0004 th(\n",
        "function should r(turn Non(&.dict\n",
        "  def access_nested_value(dictionary,keys):\n",
        "  value=dictionary\n",
        "  for key in keys:\n",
        "    if key in value:\n",
        "      value=value[key]\n",
        "    else:\n",
        "      return None\n",
        "  return value\n",
        "my_dict={'a':{'b':2},'c':{'d':3}}\n",
        "keys=['a','b']\n",
        "result=access_nested_value(my_dict,keys)\n",
        "print(result)\n"
      ],
      "metadata": {
        "id": "e9MDPymWZ2Iy"
      },
      "execution_count": null,
      "outputs": []
    },
    {
      "cell_type": "code",
      "source": [
        "34.Writ( + cod( th+t t+k(s + diction+r\u0004 +s input +nd r(turns + sort(d v(rsion of it b+s(d on th( v+lu(s. You\n",
        "c+n choos( wh(th(r to sort in +sc(nding or d(sc(nding ord(r.memoryview\n",
        "   my_dict = {'apple': 3, 'banana': 1, 'cherry': 2}\n",
        "sorted_dict = sort_dictionary_by_value(my_dict)\n",
        "print(sorted_dict)"
      ],
      "metadata": {
        "id": "F1MCWpjBZ2E9"
      },
      "execution_count": null,
      "outputs": []
    },
    {
      "cell_type": "code",
      "source": [
        "35.Writ( + cod( th+t inv(rts + diction+r\u0004 sw+pping k(\u0004s +nd v+lu(s. Ensur( th+t th( inv(rt(d diction+r\u0004\n",
        "corr(ctl\u0004 h+ndl(s c+s(s wh(r( multipl( k(\u0004s h+v( th( s+m( v+lu( b\u0004 storing th( k(\u0004s +s + list in th(\n",
        "inv(rt(d diction+ry.\n",
        "\n",
        "  my_dict = {'a': 1, 'b': 2, 'c': 1}\n",
        "inverted_dict = invert_dictionary(my_dict)\n",
        "print(inverted_dict)\n"
      ],
      "metadata": {
        "id": "0FaffaWMZ2BP"
      },
      "execution_count": null,
      "outputs": []
    },
    {
      "cell_type": "code",
      "source": [
        "## complete assignment###"
      ],
      "metadata": {
        "id": "vHAsnZDBZ19s"
      },
      "execution_count": null,
      "outputs": []
    },
    {
      "cell_type": "code",
      "source": [],
      "metadata": {
        "id": "XF35flL_f7Um"
      },
      "execution_count": null,
      "outputs": []
    }
  ]
}